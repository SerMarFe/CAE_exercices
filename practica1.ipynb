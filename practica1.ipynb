{
 "cells": [
  {
   "cell_type": "code",
   "execution_count": 1,
   "metadata": {},
   "outputs": [],
   "source": [
    "import numpy as np\n",
    "import sympy as sp\n",
    "import matplotlib\n",
    "import matplotlib.pyplot as plt\n",
    "matplotlib.rcParams['mathtext.fontset'] = 'stix' # latex like\n",
    "matplotlib.rcParams['font.family'] = 'STIXGeneral' # latex like"
   ]
  },
  {
   "attachments": {},
   "cell_type": "markdown",
   "metadata": {},
   "source": [
    "## Part 1"
   ]
  },
  {
   "attachments": {},
   "cell_type": "markdown",
   "metadata": {},
   "source": [
    "#### 1. Derive the corresponding Boundary Value Problem (BVP) for the displacement field u : [0, L]→R using the equilibrium equation for 1D problems (strong form)."
   ]
  },
  {
   "attachments": {},
   "cell_type": "markdown",
   "metadata": {},
   "source": [
    "Define variables"
   ]
  },
  {
   "cell_type": "code",
   "execution_count": 2,
   "metadata": {},
   "outputs": [],
   "source": [
    "x = sp.Symbol('x',real=True)\n",
    "u = sp.Function('u',real=True)(x)\n",
    "u_xx = u.diff(x,2)\n",
    "L, g, F, A, E = sp.symbols('L g F A E')\n",
    "rho = sp.pi**3/L**2\n",
    "s = g*sp.pi**4/L**2\n",
    "r = (x/L)**2\n",
    "b = g*sp.pi**2/L"
   ]
  },
  {
   "attachments": {},
   "cell_type": "markdown",
   "metadata": {},
   "source": [
    "Define the differential equation"
   ]
  },
  {
   "cell_type": "code",
   "execution_count": null,
   "metadata": {},
   "outputs": [],
   "source": [
    "ode = sp.Eq(u_xx + rho*u - s*r,0)\n",
    "display(ode)"
   ]
  },
  {
   "cell_type": "markdown",
   "metadata": {},
   "source": [
    "---"
   ]
  },
  {
   "cell_type": "markdown",
   "metadata": {},
   "source": [
    "#### 2. Find the exact solution of this BVP. Plot in a graph the solution of the problem using the following values of the involved constants and the function r = r(x/L):"
   ]
  },
  {
   "attachments": {},
   "cell_type": "markdown",
   "metadata": {},
   "source": [
    "Solve the differential equation"
   ]
  },
  {
   "cell_type": "code",
   "execution_count": null,
   "metadata": {},
   "outputs": [],
   "source": [
    "sol = sp.dsolve(ode, ics={u.subs(x,0):-g, u.diff(x).subs(x,L):b})\n",
    "display(sol)"
   ]
  },
  {
   "cell_type": "code",
   "execution_count": 5,
   "metadata": {},
   "outputs": [],
   "source": [
    "# print(sol.free_symbols)\n",
    "u_sol = sp.lambdify((x,L,g),sol.rhs)"
   ]
  },
  {
   "cell_type": "code",
   "execution_count": 6,
   "metadata": {},
   "outputs": [],
   "source": [
    "x_range = np.linspace(0,1,100)\n",
    "L, g = 1, 0.01"
   ]
  },
  {
   "cell_type": "code",
   "execution_count": null,
   "metadata": {},
   "outputs": [],
   "source": [
    "plt.title('ODE solution')\n",
    "plt.plot(x_range,np.real(u_sol(x_range,L,g)), color='r')\n",
    "plt.xlabel('Position ($x$) [m]')\n",
    "plt.ylabel('Displacement ($u$) [m]')\n",
    "plt.minorticks_on()\n",
    "plt.grid(True, which='major', zorder=0, color='lightgray', linestyle='-')\n",
    "plt.grid(True, which='minor', zorder=-1, color='lightgray', linestyle=':')\n",
    "plt.savefig('figures/solution1.svg',format=\"svg\")\n",
    "plt.show()"
   ]
  },
  {
   "cell_type": "markdown",
   "metadata": {},
   "source": [
    "---"
   ]
  },
  {
   "cell_type": "markdown",
   "metadata": {},
   "source": [
    "#### 3. Formulate the Variational (or Weak) form of the Boundary Value Problem."
   ]
  },
  {
   "cell_type": "code",
   "execution_count": 8,
   "metadata": {},
   "outputs": [],
   "source": [
    "v = sp.Function('v')(x)\n",
    "L,g = sp.symbols('L,g')\n",
    "b = g*sp.pi**2/L\n",
    "v_x = v.diff(x)\n",
    "u_x = u.diff(x)\n",
    "f = rho*u - s*r"
   ]
  },
  {
   "cell_type": "code",
   "execution_count": null,
   "metadata": {},
   "outputs": [],
   "source": [
    "v_x*u_x"
   ]
  },
  {
   "cell_type": "code",
   "execution_count": null,
   "metadata": {},
   "outputs": [],
   "source": [
    "weak_form = sp.Eq(sp.Integral(v_x*u_x,(x,0,L)),sp.Integral(v*f,(x,0,L)) + b*v.subs(x,1))\n",
    "display(weak_form)"
   ]
  },
  {
   "cell_type": "markdown",
   "metadata": {},
   "source": [
    "---"
   ]
  },
  {
   "cell_type": "markdown",
   "metadata": {},
   "source": [
    "#### 5. Seek an approximation to the solution of this weak form by using basis polynomial basis functions of increasing order (up to order 6)"
   ]
  },
  {
   "cell_type": "code",
   "execution_count": 11,
   "metadata": {},
   "outputs": [],
   "source": [
    "# # Define a symbolic size 'n'\n",
    "# n = sp.symbols('n', integer=True)\n",
    "# # Define a symbolic row vector 'N' with 1 row and n columns\n",
    "# N = sp.MatrixSymbol('N', 1, n)\n",
    "# B = sp.MatrixSymbol('B', 1, n)\n",
    "# c = sp.MatrixSymbol('c', n, 1)\n",
    "# d = sp.MatrixSymbol('d', n, 1)\n",
    "# v_x = B*c\n",
    "# u_x = B*d\n",
    "# v = N*c\n",
    "# u = N*d"
   ]
  },
  {
   "cell_type": "code",
   "execution_count": 12,
   "metadata": {},
   "outputs": [],
   "source": [
    "def solve_u(g_,L_,n):\n",
    "   '''Returns the function of the displacement: u(x)'''\n",
    "   # Defining variables\n",
    "   c = sp.symbols(f'c_1:{n+2}')  # Generates c_1, c_2, ..., c_n\n",
    "   d = sp.symbols(f'd_1:{n+2}')  # Generates c_1, c_2, ..., c_n\n",
    "   c = sp.Matrix(c)\n",
    "   c[0] = 0\n",
    "   d = sp.Matrix(d)\n",
    "   N = sp.Matrix([x**i for i in range(n+1)]).T\n",
    "   B = N.diff()\n",
    "   K = sp.integrate(B.T*B,(x,0,L))\n",
    "   A = sp.integrate(rho*N.T*N,(x,0,L))\n",
    "   D = -((sp.integrate(s/L**2*N.T*x**2,(x,0,L))) - b*N.T.subs(x,1))\n",
    "\n",
    "   # Define the system\n",
    "   K_ll = K[1:,1:] - A[1:,1:]\n",
    "   K_lr = (K[1:,0] - A[1:,0])\n",
    "   dr = d[0,:]\n",
    "   Dl = D[1:,:]\n",
    "\n",
    "   # Converting from symbolic to numeric for efficiency (from sympy to numpy)\n",
    "   A_system = sp.lambdify(L,K_ll)(L_)\n",
    "   b_system = sp.lambdify((L,g,dr[0]),Dl-K_lr*dr)(L_,g_,-g_)\n",
    "   sols = np.linalg.solve(A_system,b_system)\n",
    "   sols = np.insert(sols.flatten(),0,-g_)\n",
    "\n",
    "   # Defining the function of the solution\n",
    "   u_func = sp.lambdify(x,(N*sols).flatten().sum())\n",
    "   return u_func"
   ]
  },
  {
   "cell_type": "code",
   "execution_count": 13,
   "metadata": {},
   "outputs": [],
   "source": [
    "g_ = 0.01\n",
    "L_ = 1\n",
    "u_funcs = [np.vectorize(solve_u(g_=g_,L_=L_,n=i)) for i in range(1,7)]"
   ]
  },
  {
   "cell_type": "code",
   "execution_count": null,
   "metadata": {},
   "outputs": [],
   "source": [
    "x_range = np.linspace(0,1,int(1e3))\n",
    "u_funcs_eval = [u_func(x_range) for u_func in u_funcs]\n",
    "u_sol_eval = np.real(u_sol(x=x_range,L=L_,g=g_))\n",
    "\n",
    "ax = plt.subplot(1,1,1)\n",
    "color_idx = np.linspace(0, 1, len(u_funcs))\n",
    "\n",
    "\n",
    "for i, u_func_eval in enumerate(u_funcs_eval):\n",
    "    plt.plot(x_range, u_func_eval, label=f'$u_{i+1}(x)$', color=plt.cm.cool(color_idx[i]), linestyle='-', lw=1)\n",
    "\n",
    "plt.plot(x_range,u_sol_eval, label='$u(x)$', color='r', linestyle='-', lw=1)\n",
    "\n",
    "plt.xlabel('Position ($x$) [m]')\n",
    "plt.ylabel('Displacement ($u$) [m]')\n",
    "plt.minorticks_on()\n",
    "plt.grid(True, which='major', zorder=0, color='lightgray', linestyle='-')\n",
    "plt.grid(True, which='minor', zorder=-1, color='lightgray', linestyle=':')\n",
    "plt.ylim(min(u_sol_eval)*1.2,max(u_sol_eval)*1.2)\n",
    "plt.savefig('figures/solution2.svg',format=\"svg\")\n",
    "plt.legend()\n",
    "plt.show()"
   ]
  },
  {
   "cell_type": "markdown",
   "metadata": {},
   "source": [
    "---"
   ]
  },
  {
   "cell_type": "markdown",
   "metadata": {},
   "source": [
    "#### 6. Solve the weak form using linear finite element basis functions. Employ equally sized finite elements"
   ]
  },
  {
   "cell_type": "code",
   "execution_count": 15,
   "metadata": {},
   "outputs": [],
   "source": [
    "import scipy as sc\n",
    "# import random"
   ]
  },
  {
   "cell_type": "code",
   "execution_count": 16,
   "metadata": {},
   "outputs": [],
   "source": [
    "nel = 10\n",
    "nnod = nel+1\n",
    "L = 1\n",
    "rho = np.pi**3/L**2\n",
    "he = L/nel\n",
    "he_ = sp.symbols('h_e')\n",
    "# Ke = np.array([[1, -1],[-1, 1]])/he\n",
    "ke = [1/he for i in range(nel)] # In case the Ke was not the same for every element, to know what value is associated with each one (generalization)"
   ]
  },
  {
   "cell_type": "code",
   "execution_count": 17,
   "metadata": {},
   "outputs": [],
   "source": [
    "CN = np.array([[i+1, i+2] for i in range(nel)]) # Element connectivity matrix (node A is connected with node B, its row is the number of the element)\n",
    "nnodE = CN.shape[1]"
   ]
  },
  {
   "cell_type": "markdown",
   "metadata": {},
   "source": [
    "##### Calculation of Ke"
   ]
  },
  {
   "cell_type": "code",
   "execution_count": 18,
   "metadata": {},
   "outputs": [],
   "source": [
    "# Symbolic calculation of Ke and transforming to numeric\n",
    "xi = sp.symbols('xi')\n",
    "Ne = 1/2*sp.Matrix([(1-xi),(1+xi)]).T\n",
    "Be = sp.diff(Ne,xi)*(2/he_) # dx/dξ = he/2 (Be = d(Ne)/dx = d(Ne)/dξ * dξ/dx)\n",
    "K1 = sp.integrate(Be.T*Be,(xi,-1,1))*(he_/2)\n",
    "K2 = rho*sp.integrate((Ne.T*Ne),(xi,-1,1))*(he_/2)\n",
    "Ke_ = K1 - K2 # symbolic\n",
    "Ke = np.array(Ke_.subs(he_,he)).astype(np.float64) # numeric"
   ]
  },
  {
   "cell_type": "markdown",
   "metadata": {},
   "source": [
    "##### Assembly of K"
   ]
  },
  {
   "cell_type": "code",
   "execution_count": null,
   "metadata": {},
   "outputs": [],
   "source": [
    "Kcoo = sc.sparse.coo_matrix(([0],([0],[0])), shape=(nnod,nnod)) # definition of a sparse matrix full of zeros\n",
    "Klil = Kcoo.tolil() # for easy modification\n",
    "\n",
    "CN_index_corrected = CN - 1\n",
    "for el, nodE in enumerate(CN_index_corrected):\n",
    "    for a in range(nnodE):\n",
    "        for b in range(nnodE):\n",
    "            Klil[nodE[a],nodE[b]] += Ke[a,b]\n",
    "del CN_index_corrected\n",
    "\n",
    "K = Klil.tocsr() # more efficient for operations\n",
    "K.__sizeof__()\n",
    "# K.toarray(), plt.spy(K)"
   ]
  },
  {
   "cell_type": "markdown",
   "metadata": {},
   "source": [
    "##### Calculation of Fe\n",
    "The integral to get Fe is the following, and should be done using a Gauss quadrature"
   ]
  },
  {
   "cell_type": "code",
   "execution_count": null,
   "metadata": {},
   "outputs": [],
   "source": []
  },
  {
   "cell_type": "markdown",
   "metadata": {},
   "source": [
    "##### Assembly of F"
   ]
  },
  {
   "cell_type": "code",
   "execution_count": 49,
   "metadata": {},
   "outputs": [],
   "source": [
    "Fcoo = sc.sparse.coo_matrix(([0],([0],[0])),shape=(nnod,1))\n",
    "Flil = Fcoo.tolil() # for easy modification\n",
    "\n",
    "CN_index_corrected = CN - 1\n",
    "for el, nodE in enumerate(CN_index_corrected):\n",
    "    for a in range(nnodE):\n",
    "        Flil[nodE[a],0] += Fe[a]"
   ]
  },
  {
   "cell_type": "code",
   "execution_count": 50,
   "metadata": {},
   "outputs": [
    {
     "data": {
      "text/plain": [
       "array([[2],\n",
       "       [7],\n",
       "       [7],\n",
       "       [7],\n",
       "       [7],\n",
       "       [7],\n",
       "       [7],\n",
       "       [7],\n",
       "       [7],\n",
       "       [7],\n",
       "       [5]])"
      ]
     },
     "execution_count": 50,
     "metadata": {},
     "output_type": "execute_result"
    }
   ],
   "source": [
    "Flil.toarray()"
   ]
  }
 ],
 "metadata": {
  "kernelspec": {
   "display_name": "Python 3",
   "language": "python",
   "name": "python3"
  },
  "language_info": {
   "codemirror_mode": {
    "name": "ipython",
    "version": 3
   },
   "file_extension": ".py",
   "mimetype": "text/x-python",
   "name": "python",
   "nbconvert_exporter": "python",
   "pygments_lexer": "ipython3",
   "version": "3.11.5"
  },
  "orig_nbformat": 4
 },
 "nbformat": 4,
 "nbformat_minor": 2
}
